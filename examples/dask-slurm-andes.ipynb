{
 "cells": [
  {
   "cell_type": "code",
   "execution_count": null,
   "id": "authorized-category",
   "metadata": {},
   "outputs": [],
   "source": [
    "from dask_jobqueue import SLURMCluster\n",
    "from distributed import Client\n",
    "cluster = SLURMCluster()\n",
    "print(cluster.job_script())\n",
    "client = Client(cluster)\n",
    "client"
   ]
  },
  {
   "cell_type": "code",
   "execution_count": null,
   "id": "nutritional-implementation",
   "metadata": {},
   "outputs": [],
   "source": []
  },
  {
   "cell_type": "code",
   "execution_count": null,
   "id": "dangerous-grill",
   "metadata": {},
   "outputs": [],
   "source": [
    "%%time\n",
    "import pandas as pd\n",
    "import fastparquet as fp\n",
    "import dask.dataframe as dd\n",
    "\n",
    "# Scale up before running compute\n",
    "cluster.scale(jobs=4)\n",
    "\n",
    "FN = '/gpfs/alpine/stf218/proj-shared/stf008stc/openbmc.summit.raw/openbmc-202004*-*.parquet'\n",
    "df = dd.read_parquet(\n",
    "    FN,\n",
    "    engine='fastparquet',\n",
    "    index=False,\n",
    "    columns=['timestamp', 'total_power'],\n",
    "    gather_statistics=False,\n",
    ").repartition(partition_size=\"100MB\").set_index('timestamp')\n",
    "df = client.persist(df)\n",
    "df"
   ]
  },
  {
   "cell_type": "code",
   "execution_count": null,
   "id": "chubby-microphone",
   "metadata": {},
   "outputs": [],
   "source": [
    "%%time\n",
    "value = df['total_power'].std().compute()\n",
    "value"
   ]
  },
  {
   "cell_type": "code",
   "execution_count": null,
   "id": "appropriate-pension",
   "metadata": {},
   "outputs": [],
   "source": [
    "client.close()\n",
    "cluster.close()"
   ]
  },
  {
   "cell_type": "code",
   "execution_count": null,
   "id": "sacred-saskatchewan",
   "metadata": {},
   "outputs": [],
   "source": [
    "cluster.scale(jobs=0)"
   ]
  },
  {
   "cell_type": "code",
   "execution_count": null,
   "id": "skilled-jordan",
   "metadata": {},
   "outputs": [],
   "source": []
  }
 ],
 "metadata": {
  "kernelspec": {
   "display_name": "Python 3",
   "language": "python",
   "name": "python3"
  },
  "language_info": {
   "codemirror_mode": {
    "name": "ipython",
    "version": 3
   },
   "file_extension": ".py",
   "mimetype": "text/x-python",
   "name": "python",
   "nbconvert_exporter": "python",
   "pygments_lexer": "ipython3",
   "version": "3.6.12"
  }
 },
 "nbformat": 4,
 "nbformat_minor": 5
}
